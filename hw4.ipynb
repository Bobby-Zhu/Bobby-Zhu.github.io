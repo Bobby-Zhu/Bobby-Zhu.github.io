{
  "cells": [
    {
      "cell_type": "markdown",
      "id": "0ceeeb46",
      "metadata": {
        "id": "0ceeeb46"
      },
      "source": [
        "# Homework 4\n",
        "\n",
        "For this assignment, you will be developing an artificial neural network to classify data given in the __[Dry Beans Data Set](https://archive.ics.uci.edu/ml/datasets/Dry+Bean+Dataset#)__. This data set was obtained as a part of a research study by Selcuk University, Turkey, in which a computer vision system was developed to distinguish seven different registered varieties of dry beans with similar features. More details on the study can be found in the following __[research paper](https://www.sciencedirect.com/science/article/pii/S0168169919311573)__. <br>\n",
        "### **Make sure to use the lecture notebook on an introduction to keras and cross validation located [here](https://colab.research.google.com/drive/1ksEGL7SJ_wutCIyPYx7Loe5EPdOij6dJ?usp=sharing) and [here](https://colab.research.google.com/drive/1C9Mwf1J2ril1Q4l6n2BjQMb8YaFySG5_?usp=sharing)**.\n",
        "\n",
        "## About the Data Set\n",
        "Seven different types of dry beans were used in a study in Selcuk University, Turkey, taking into account the features such as form, shape, type, and structure by the market situation. A computer vision system was developed to distinguish seven different registered varieties of dry beans with similar features in order to obtain uniform seed classification. For the **classification** model, images of 13611 grains of 7 different registered dry beans were taken with a high-resolution camera. Bean images obtained by computer vision system were subjected to segmentation and feature extraction stages, and a total of 16 features - 12 dimensions and 4 shape forms - were obtained from the grains.\n",
        "\n",
        "Number of Instances (records in the data set): __13611__\n",
        "\n",
        "Number of Attributes (fields within each record, including the class): __17__\n",
        "\n",
        "### Data Set Attribute Information:\n",
        "\n",
        "1. __Area (A)__ : The area of a bean zone and the number of pixels within its boundaries.\n",
        "2. __Perimeter (P)__ : Bean circumference is defined as the length of its border.\n",
        "3. __Major axis length (L)__ : The distance between the ends of the longest line that can be drawn from a bean.\n",
        "4. __Minor axis length (l)__ : The longest line that can be drawn from the bean while standing perpendicular to the main axis.\n",
        "5. __Aspect ratio (K)__ : Defines the relationship between L and l.\n",
        "6. __Eccentricity (Ec)__ : Eccentricity of the ellipse having the same moments as the region.\n",
        "7. __Convex area (C)__ : Number of pixels in the smallest convex polygon that can contain the area of a bean seed.\n",
        "8. __Equivalent diameter (Ed)__ : The diameter of a circle having the same area as a bean seed area.\n",
        "9. __Extent (Ex)__ : The ratio of the pixels in the bounding box to the bean area.\n",
        "10. __Solidity (S)__ : Also known as convexity. The ratio of the pixels in the convex shell to those found in beans.\n",
        "11. __Roundness (R)__ : Calculated with the following formula: (4piA)/(P^2)\n",
        "12. __Compactness (CO)__ : Measures the roundness of an object: Ed/L\n",
        "13. __ShapeFactor1 (SF1)__\n",
        "14. __ShapeFactor2 (SF2)__\n",
        "15. __ShapeFactor3 (SF3)__\n",
        "16. __ShapeFactor4 (SF4)__\n",
        "\n",
        "17. __Classes : *Seker, Barbunya, Bombay, Cali, Dermosan, Horoz, Sira*__"
      ]
    },
    {
      "cell_type": "code",
      "source": [
        "!pip install scikeras\n",
        "!pip install keras-tuner -q"
      ],
      "metadata": {
        "colab": {
          "base_uri": "https://localhost:8080/"
        },
        "id": "jJCF3Sd3Js31",
        "outputId": "37d61727-6d66-4984-9376-e9c431ea2bce"
      },
      "id": "jJCF3Sd3Js31",
      "execution_count": 3,
      "outputs": [
        {
          "output_type": "stream",
          "name": "stdout",
          "text": [
            "Collecting scikeras\n",
            "  Downloading scikeras-0.13.0-py3-none-any.whl.metadata (3.1 kB)\n",
            "Requirement already satisfied: keras>=3.2.0 in /usr/local/lib/python3.10/dist-packages (from scikeras) (3.5.0)\n",
            "Requirement already satisfied: scikit-learn>=1.4.2 in /usr/local/lib/python3.10/dist-packages (from scikeras) (1.5.2)\n",
            "Requirement already satisfied: absl-py in /usr/local/lib/python3.10/dist-packages (from keras>=3.2.0->scikeras) (1.4.0)\n",
            "Requirement already satisfied: numpy in /usr/local/lib/python3.10/dist-packages (from keras>=3.2.0->scikeras) (1.26.4)\n",
            "Requirement already satisfied: rich in /usr/local/lib/python3.10/dist-packages (from keras>=3.2.0->scikeras) (13.9.4)\n",
            "Requirement already satisfied: namex in /usr/local/lib/python3.10/dist-packages (from keras>=3.2.0->scikeras) (0.0.8)\n",
            "Requirement already satisfied: h5py in /usr/local/lib/python3.10/dist-packages (from keras>=3.2.0->scikeras) (3.12.1)\n",
            "Requirement already satisfied: optree in /usr/local/lib/python3.10/dist-packages (from keras>=3.2.0->scikeras) (0.13.1)\n",
            "Requirement already satisfied: ml-dtypes in /usr/local/lib/python3.10/dist-packages (from keras>=3.2.0->scikeras) (0.4.1)\n",
            "Requirement already satisfied: packaging in /usr/local/lib/python3.10/dist-packages (from keras>=3.2.0->scikeras) (24.2)\n",
            "Requirement already satisfied: scipy>=1.6.0 in /usr/local/lib/python3.10/dist-packages (from scikit-learn>=1.4.2->scikeras) (1.13.1)\n",
            "Requirement already satisfied: joblib>=1.2.0 in /usr/local/lib/python3.10/dist-packages (from scikit-learn>=1.4.2->scikeras) (1.4.2)\n",
            "Requirement already satisfied: threadpoolctl>=3.1.0 in /usr/local/lib/python3.10/dist-packages (from scikit-learn>=1.4.2->scikeras) (3.5.0)\n",
            "Requirement already satisfied: typing-extensions>=4.5.0 in /usr/local/lib/python3.10/dist-packages (from optree->keras>=3.2.0->scikeras) (4.12.2)\n",
            "Requirement already satisfied: markdown-it-py>=2.2.0 in /usr/local/lib/python3.10/dist-packages (from rich->keras>=3.2.0->scikeras) (3.0.0)\n",
            "Requirement already satisfied: pygments<3.0.0,>=2.13.0 in /usr/local/lib/python3.10/dist-packages (from rich->keras>=3.2.0->scikeras) (2.18.0)\n",
            "Requirement already satisfied: mdurl~=0.1 in /usr/local/lib/python3.10/dist-packages (from markdown-it-py>=2.2.0->rich->keras>=3.2.0->scikeras) (0.1.2)\n",
            "Downloading scikeras-0.13.0-py3-none-any.whl (26 kB)\n",
            "Installing collected packages: scikeras\n",
            "Successfully installed scikeras-0.13.0\n",
            "\u001b[2K   \u001b[90m━━━━━━━━━━━━━━━━━━━━━━━━━━━━━━━━━━━━━━━━\u001b[0m \u001b[32m129.1/129.1 kB\u001b[0m \u001b[31m9.2 MB/s\u001b[0m eta \u001b[36m0:00:00\u001b[0m\n",
            "\u001b[?25h"
          ]
        }
      ]
    },
    {
      "cell_type": "markdown",
      "id": "61beac74",
      "metadata": {
        "id": "61beac74"
      },
      "source": [
        "### Libraries that can be used :\n",
        "- NumPy, SciPy, Pandas, Sci-Kit Learn, TensorFlow, Keras. You may also use PyTorch (though support may be limited)\n",
        "- Any other library used during the lectures and discussion sessions.\n",
        "\n",
        "### Other Notes\n",
        "- Don't worry about not being able to achieve high accuracy, it is neither the goal nor the grading standard of this assignment.\n",
        "- Discussion and Lecture materials should be helpful for doing the assignments.\n",
        "- The homework submission should be a .ipynb file.\n"
      ]
    },
    {
      "cell_type": "code",
      "execution_count": 7,
      "id": "LcVrrFbn1wzE",
      "metadata": {
        "id": "LcVrrFbn1wzE",
        "colab": {
          "base_uri": "https://localhost:8080/"
        },
        "outputId": "fa3f575d-ae01-4ba0-980e-8b629e62582a"
      },
      "outputs": [
        {
          "output_type": "stream",
          "name": "stdout",
          "text": [
            "Cloning into 'hw4'...\n",
            "remote: Enumerating objects: 63, done.\u001b[K\n",
            "remote: Counting objects: 100% (63/63), done.\u001b[K\n",
            "remote: Compressing objects: 100% (60/60), done.\u001b[K\n",
            "remote: Total 63 (delta 36), reused 7 (delta 2), pack-reused 0 (from 0)\u001b[K\n",
            "Receiving objects: 100% (63/63), 1.58 MiB | 20.43 MiB/s, done.\n",
            "Resolving deltas: 100% (36/36), done.\n"
          ]
        }
      ],
      "source": [
        "!git clone https://github.com/ucsd-cse151a-f24/hw4.git"
      ]
    },
    {
      "cell_type": "markdown",
      "id": "0264c751",
      "metadata": {
        "id": "0264c751"
      },
      "source": [
        "\n",
        "## Exercise 1 : Building a Feed-Forward Neural Network(50 points)\n",
        "\n",
        "### Exercise 1.1 : Data Preprocessing (10 points)\n",
        "\n",
        "- As the classes are categorical, use one-hot encoding to represent the set of classes. You will find this useful when developing the output layer of the neural network.\n",
        "- Split the data into training and testing set by __90:10__ and use the training set for training the model and the test set to evaluate the model performance. Please set verbose=0 to suppress output during training.\n",
        "- Normalize each field of the input data using the min-max normalization technique.\n",
        "\n",
        "__Notes:__\n",
        "\n",
        "- Splitting of the dataset should be done __before__ the normalization step and __after__ the one-hot encoding."
      ]
    },
    {
      "cell_type": "code",
      "source": [
        "import pandas as pd\n",
        "from sklearn.preprocessing import OneHotEncoder\n",
        "from sklearn.model_selection import train_test_split\n",
        "from sklearn.preprocessing import MinMaxScaler\n",
        "import numpy as np\n",
        "import keras\n",
        "from keras import layers\n",
        "from keras import ops\n",
        "from keras.models import Sequential\n",
        "from keras.layers import Dense\n",
        "from keras.optimizers import SGD\n",
        "from sklearn.metrics import confusion_matrix, accuracy_score, mean_squared_error, precision_score, recall_score\n",
        "from sklearn.model_selection import RepeatedKFold, cross_val_score\n",
        "from scikeras.wrappers import KerasClassifier\n",
        "from sklearn.pipeline import Pipeline\n",
        "import keras_tuner as kt\n",
        "from keras.optimizers import Adam, SGD\n",
        "from keras.callbacks import EarlyStopping"
      ],
      "metadata": {
        "id": "JtX-F0paf84Z"
      },
      "id": "JtX-F0paf84Z",
      "execution_count": 18,
      "outputs": []
    },
    {
      "cell_type": "code",
      "execution_count": 13,
      "id": "1St-29dI04l3",
      "metadata": {
        "id": "1St-29dI04l3"
      },
      "outputs": [],
      "source": [
        "df = pd.read_csv(\"hw4/Dry_Beans_Dataset.csv\")\n",
        "df = pd.get_dummies(df,columns=[\"Class\"])\n",
        "scaler = MinMaxScaler()\n",
        "class_col = [col for col in df.columns if col.startswith(\"Class\")]\n",
        "\n",
        "X = df[[col for col in df.columns if col not in class_col]]\n",
        "y = df[class_col]\n",
        "X_train,X_test,y_train,y_test = train_test_split(X, y, test_size=0.1, random_state=42)\n",
        "\n",
        "X_train_scaled = pd.DataFrame(scaler.fit_transform(X_train), columns=X_train.columns)\n",
        "X_test_scaled = pd.DataFrame(scaler.transform(X_test), columns=X_test.columns)\n"
      ]
    },
    {
      "cell_type": "code",
      "source": [],
      "metadata": {
        "id": "6YGccPiGgd0X"
      },
      "id": "6YGccPiGgd0X",
      "execution_count": null,
      "outputs": []
    },
    {
      "cell_type": "markdown",
      "id": "o4QPlcYa0sHN",
      "metadata": {
        "id": "o4QPlcYa0sHN"
      },
      "source": [
        "### Exercise 1.2 : Training and Testing the Neural Network (40 points)\n",
        "\n",
        "Design a 3-layer (3 hidden layers and this does not include the input or output layer) artificial deep neural network, specifically a feed-forward multi-layer perceptron (using the sigmoid activation function), to classify the type of 'Dry Bean' given the other attributes in the data set, similar to the one mentioned in the paper above. Please note that this is a **multi-class classification** problem so select the right number of nodes accordingly for the input and output layers.\n",
        "\n",
        "Consider the following hyperparameters while developing your model:\n",
        "\n",
        "- Model type: Keras Sequential\n",
        "- Make sure your input layer matches the size of your X matrix\n",
        "- Number and type of hidden layers: 3 and Dense\n",
        "- Number of nodes in each hidden layer: 12\n",
        "- Learning rate should be 0.3\n",
        "- Number of epochs should be 100\n",
        "- The sigmoid function is to be used as the activation function in each layer\n",
        "- Your output layer has to use a sigmoid function and the number of outputs should match the shape of your y\n",
        "- Your loss function should be MSE\n",
        "- Stochastic Gradient Descent should be used to minimize the error rate\n",
        "\n",
        "**Note:** We are having you use MSE as your loss function for this model, is this a good choice? Why or why not? If not, what should you use instead in future models? Answer below\n",
        "\n",
        "__Requirements once the model has been trained :__\n",
        "\n",
        "- A confusion matrix for all classes, specifying the true positive, true negative, false positive, and false negative cases for each category in the class\n",
        "- Since we do have OHE output (multi-class output) you will need to either reshape or argmax your outputs. Make sure they have already been thresholded as well i.e. look at yhat and do you see 1's and 0's?\n",
        "- The accuracy and mean squared error (MSE) of the model\n",
        "- The precision and recall for each label in the class\n",
        "\n",
        "__Notes :__\n",
        "\n",
        "- The mean squared error (MSE) values obtained __should be positive__.\n"
      ]
    },
    {
      "cell_type": "code",
      "execution_count": 14,
      "id": "KhW7lew706U8",
      "metadata": {
        "id": "KhW7lew706U8",
        "colab": {
          "base_uri": "https://localhost:8080/"
        },
        "outputId": "8a6e2e27-f286-48ef-985e-304b3aed295a"
      },
      "outputs": [
        {
          "output_type": "stream",
          "name": "stderr",
          "text": [
            "/usr/local/lib/python3.10/dist-packages/keras/src/layers/core/dense.py:87: UserWarning: Do not pass an `input_shape`/`input_dim` argument to a layer. When using Sequential models, prefer using an `Input(shape)` object as the first layer in the model instead.\n",
            "  super().__init__(activity_regularizer=activity_regularizer, **kwargs)\n"
          ]
        },
        {
          "output_type": "stream",
          "name": "stdout",
          "text": [
            "Test Loss: 0.0971468836069107, Test MSE: 0.0971468836069107\n"
          ]
        }
      ],
      "source": [
        "import keras\n",
        "from keras import layers\n",
        "from keras import ops\n",
        "from keras.models import Sequential\n",
        "from keras.layers import Dense\n",
        "from keras.optimizers import SGD\n",
        "from sklearn.metrics import confusion_matrix, accuracy_score, mean_squared_error, precision_score, recall_score\n",
        "from sklearn.model_selection import RepeatedKFold, cross_val_score\n",
        "from scikeras.wrappers import KerasClassifier\n",
        "from sklearn.pipeline import Pipeline\n",
        "import keras_tuner as kt\n",
        "from keras.optimizers import Adam, SGD\n",
        "from keras.callbacks import EarlyStopping\n",
        "\n",
        "def create_model():\n",
        "  model = Sequential([\n",
        "      Dense(12, input_dim=X_train.shape[1], activation='sigmoid'),\n",
        "      Dense(12, activation='sigmoid'),\n",
        "      Dense(12, activation='sigmoid'),\n",
        "      Dense(y_train.shape[1], activation='sigmoid')\n",
        "  ])\n",
        "\n",
        "  model.compile(\n",
        "      optimizer=SGD(learning_rate=0.3),\n",
        "      loss='mse',\n",
        "      metrics=['mse']\n",
        "  )\n",
        "\n",
        "  history = model.fit(\n",
        "      X_train_scaled, y_train,\n",
        "      epochs=100,\n",
        "      batch_size=32,\n",
        "      verbose=0\n",
        "  )\n",
        "\n",
        "  loss, mse = model.evaluate(X_test_scaled, y_test, verbose=0)\n",
        "  print(f\"Test Loss: {loss}, Test MSE: {mse}\")\n",
        "  return model\n",
        "model = create_model()"
      ]
    },
    {
      "cell_type": "code",
      "source": [
        "yhat_class = model.predict(X_test_scaled)\n",
        "yhat_class = np.argmax(yhat_class,axis=1)\n",
        "y_test_class = np.argmax(y_test, axis=1)\n",
        "y_test_class"
      ],
      "metadata": {
        "colab": {
          "base_uri": "https://localhost:8080/"
        },
        "id": "b-mGxANw0gCi",
        "outputId": "6b8a6b65-1d4d-4bd2-88ce-55d2807eb444"
      },
      "id": "b-mGxANw0gCi",
      "execution_count": 15,
      "outputs": [
        {
          "output_type": "stream",
          "name": "stdout",
          "text": [
            "\u001b[1m43/43\u001b[0m \u001b[32m━━━━━━━━━━━━━━━━━━━━\u001b[0m\u001b[37m\u001b[0m \u001b[1m0s\u001b[0m 2ms/step\n"
          ]
        },
        {
          "output_type": "execute_result",
          "data": {
            "text/plain": [
              "array([0, 6, 3, ..., 3, 6, 0])"
            ]
          },
          "metadata": {},
          "execution_count": 15
        }
      ]
    },
    {
      "cell_type": "code",
      "source": [
        "\n",
        "class_names = y_test.columns\n",
        "cm = confusion_matrix(y_test_class, yhat_class)\n",
        "\n",
        "print(\"\\nMetrics for Each Class:\")\n",
        "for i, class_name in enumerate(class_names):\n",
        "    TP = cm[i, i]\n",
        "    FP = cm[:, i].sum() - TP\n",
        "    FN = cm[i, :].sum() - TP\n",
        "    TN = cm.sum() - (TP + FP + FN)\n",
        "\n",
        "    print(f\"{class_name}:\")\n",
        "    print(f\"  True Positives (TP): {TP}\")\n",
        "    print(f\"  True Negatives (TN): {TN}\")\n",
        "    print(f\"  False Positives (FP): {FP}\")\n",
        "    print(f\"  False Negatives (FN): {FN}\")\n",
        "\n",
        "accuracy = accuracy_score(y_test_class, yhat_class)\n",
        "print(f\"Accuracy: {accuracy:.2f}\")\n",
        "\n",
        "mse = mean_squared_error(y_test_class, yhat_class)\n",
        "print(f\"MSE: {mse:.2f}\")\n",
        "\n",
        "precision = precision_score(y_test_class, yhat_class, average=None)\n",
        "recall = recall_score(y_test_class, yhat_class, average=None)\n",
        "\n",
        "for i, (single_class,p, r) in enumerate(zip(class_names,precision, recall)):\n",
        "    print(f\"Class {single_class}: Precision = {p:.2f}, Recall = {r:.2f}\")"
      ],
      "metadata": {
        "colab": {
          "base_uri": "https://localhost:8080/"
        },
        "id": "Rgt7MVGS9M7E",
        "outputId": "bed99539-6be6-4388-d026-054150e11764"
      },
      "id": "Rgt7MVGS9M7E",
      "execution_count": 16,
      "outputs": [
        {
          "output_type": "stream",
          "name": "stdout",
          "text": [
            "\n",
            "Metrics for Each Class:\n",
            "Class_BARBUNYA:\n",
            "  True Positives (TP): 0\n",
            "  True Negatives (TN): 1225\n",
            "  False Positives (FP): 0\n",
            "  False Negatives (FN): 137\n",
            "Class_BOMBAY:\n",
            "  True Positives (TP): 0\n",
            "  True Negatives (TN): 1299\n",
            "  False Positives (FP): 0\n",
            "  False Negatives (FN): 63\n",
            "Class_CALI:\n",
            "  True Positives (TP): 0\n",
            "  True Negatives (TN): 1167\n",
            "  False Positives (FP): 0\n",
            "  False Negatives (FN): 195\n",
            "Class_DERMASON:\n",
            "  True Positives (TP): 277\n",
            "  True Negatives (TN): 599\n",
            "  False Positives (FP): 421\n",
            "  False Negatives (FN): 65\n",
            "Class_HOROZ:\n",
            "  True Positives (TP): 180\n",
            "  True Negatives (TN): 951\n",
            "  False Positives (FP): 230\n",
            "  False Negatives (FN): 1\n",
            "Class_SEKER:\n",
            "  True Positives (TP): 189\n",
            "  True Negatives (TN): 1097\n",
            "  False Positives (FP): 65\n",
            "  False Negatives (FN): 11\n",
            "Class_SIRA:\n",
            "  True Positives (TP): 0\n",
            "  True Negatives (TN): 1118\n",
            "  False Positives (FP): 0\n",
            "  False Negatives (FN): 244\n",
            "Accuracy: 0.47\n",
            "MSE: 3.54\n",
            "Class Class_BARBUNYA: Precision = 0.00, Recall = 0.00\n",
            "Class Class_BOMBAY: Precision = 0.00, Recall = 0.00\n",
            "Class Class_CALI: Precision = 0.00, Recall = 0.00\n",
            "Class Class_DERMASON: Precision = 0.40, Recall = 0.81\n",
            "Class Class_HOROZ: Precision = 0.44, Recall = 0.99\n",
            "Class Class_SEKER: Precision = 0.74, Recall = 0.94\n",
            "Class Class_SIRA: Precision = 0.00, Recall = 0.00\n"
          ]
        },
        {
          "output_type": "stream",
          "name": "stderr",
          "text": [
            "/usr/local/lib/python3.10/dist-packages/sklearn/metrics/_classification.py:1531: UndefinedMetricWarning: Precision is ill-defined and being set to 0.0 in labels with no predicted samples. Use `zero_division` parameter to control this behavior.\n",
            "  _warn_prf(average, modifier, f\"{metric.capitalize()} is\", len(result))\n"
          ]
        }
      ]
    },
    {
      "cell_type": "markdown",
      "id": "083f5188",
      "metadata": {
        "id": "083f5188"
      },
      "source": [
        "## Exercise 2 : k-fold Cross Validation (20 points)\n",
        "\n",
        "In order to avoid **using biased models**, use 10-fold cross validation to generalize the model from Ex1.2 on the given data set. You can choose a n_repeats value of 1-5\n",
        "\n",
        "__Requirements :__\n",
        "- Print the accuracy values during each iteration of the **cross validation** not the iterations per epoch or the epochs\n",
        "- Print the overall average accuracy per each n_fold value, look at the documentation for the scoring parameter\n",
        "\n"
      ]
    },
    {
      "cell_type": "code",
      "execution_count": 17,
      "id": "tu8rIov607s4",
      "metadata": {
        "id": "tu8rIov607s4",
        "colab": {
          "base_uri": "https://localhost:8080/"
        },
        "outputId": "157cd4ac-d07f-443e-8dd8-65e0c19d2b2a"
      },
      "outputs": [
        {
          "output_type": "stream",
          "name": "stderr",
          "text": [
            "/usr/local/lib/python3.10/dist-packages/keras/src/layers/core/dense.py:87: UserWarning: Do not pass an `input_shape`/`input_dim` argument to a layer. When using Sequential models, prefer using an `Input(shape)` object as the first layer in the model instead.\n",
            "  super().__init__(activity_regularizer=activity_regularizer, **kwargs)\n"
          ]
        },
        {
          "output_type": "stream",
          "name": "stdout",
          "text": [
            "Test Loss: 0.08600685000419617, Test MSE: 0.08600685000419617\n"
          ]
        },
        {
          "output_type": "stream",
          "name": "stderr",
          "text": [
            "/usr/local/lib/python3.10/dist-packages/keras/src/layers/core/dense.py:87: UserWarning: Do not pass an `input_shape`/`input_dim` argument to a layer. When using Sequential models, prefer using an `Input(shape)` object as the first layer in the model instead.\n",
            "  super().__init__(activity_regularizer=activity_regularizer, **kwargs)\n"
          ]
        },
        {
          "output_type": "stream",
          "name": "stdout",
          "text": [
            "Test Loss: 0.0804283395409584, Test MSE: 0.0804283395409584\n"
          ]
        },
        {
          "output_type": "stream",
          "name": "stderr",
          "text": [
            "/usr/local/lib/python3.10/dist-packages/keras/src/layers/core/dense.py:87: UserWarning: Do not pass an `input_shape`/`input_dim` argument to a layer. When using Sequential models, prefer using an `Input(shape)` object as the first layer in the model instead.\n",
            "  super().__init__(activity_regularizer=activity_regularizer, **kwargs)\n"
          ]
        },
        {
          "output_type": "stream",
          "name": "stdout",
          "text": [
            "Test Loss: 0.06863216310739517, Test MSE: 0.06863216310739517\n"
          ]
        },
        {
          "output_type": "stream",
          "name": "stderr",
          "text": [
            "/usr/local/lib/python3.10/dist-packages/keras/src/layers/core/dense.py:87: UserWarning: Do not pass an `input_shape`/`input_dim` argument to a layer. When using Sequential models, prefer using an `Input(shape)` object as the first layer in the model instead.\n",
            "  super().__init__(activity_regularizer=activity_regularizer, **kwargs)\n"
          ]
        },
        {
          "output_type": "stream",
          "name": "stdout",
          "text": [
            "Test Loss: 0.043759867548942566, Test MSE: 0.043759867548942566\n"
          ]
        },
        {
          "output_type": "stream",
          "name": "stderr",
          "text": [
            "/usr/local/lib/python3.10/dist-packages/keras/src/layers/core/dense.py:87: UserWarning: Do not pass an `input_shape`/`input_dim` argument to a layer. When using Sequential models, prefer using an `Input(shape)` object as the first layer in the model instead.\n",
            "  super().__init__(activity_regularizer=activity_regularizer, **kwargs)\n"
          ]
        },
        {
          "output_type": "stream",
          "name": "stdout",
          "text": [
            "Test Loss: 0.07948318123817444, Test MSE: 0.07948318123817444\n"
          ]
        },
        {
          "output_type": "stream",
          "name": "stderr",
          "text": [
            "/usr/local/lib/python3.10/dist-packages/keras/src/layers/core/dense.py:87: UserWarning: Do not pass an `input_shape`/`input_dim` argument to a layer. When using Sequential models, prefer using an `Input(shape)` object as the first layer in the model instead.\n",
            "  super().__init__(activity_regularizer=activity_regularizer, **kwargs)\n"
          ]
        },
        {
          "output_type": "stream",
          "name": "stdout",
          "text": [
            "Test Loss: 0.09027040004730225, Test MSE: 0.09027040004730225\n"
          ]
        },
        {
          "output_type": "stream",
          "name": "stderr",
          "text": [
            "/usr/local/lib/python3.10/dist-packages/keras/src/layers/core/dense.py:87: UserWarning: Do not pass an `input_shape`/`input_dim` argument to a layer. When using Sequential models, prefer using an `Input(shape)` object as the first layer in the model instead.\n",
            "  super().__init__(activity_regularizer=activity_regularizer, **kwargs)\n"
          ]
        },
        {
          "output_type": "stream",
          "name": "stdout",
          "text": [
            "Test Loss: 0.09191896766424179, Test MSE: 0.09191896766424179\n"
          ]
        },
        {
          "output_type": "stream",
          "name": "stderr",
          "text": [
            "/usr/local/lib/python3.10/dist-packages/keras/src/layers/core/dense.py:87: UserWarning: Do not pass an `input_shape`/`input_dim` argument to a layer. When using Sequential models, prefer using an `Input(shape)` object as the first layer in the model instead.\n",
            "  super().__init__(activity_regularizer=activity_regularizer, **kwargs)\n"
          ]
        },
        {
          "output_type": "stream",
          "name": "stdout",
          "text": [
            "Test Loss: 0.08340685814619064, Test MSE: 0.08340685814619064\n"
          ]
        },
        {
          "output_type": "stream",
          "name": "stderr",
          "text": [
            "/usr/local/lib/python3.10/dist-packages/keras/src/layers/core/dense.py:87: UserWarning: Do not pass an `input_shape`/`input_dim` argument to a layer. When using Sequential models, prefer using an `Input(shape)` object as the first layer in the model instead.\n",
            "  super().__init__(activity_regularizer=activity_regularizer, **kwargs)\n"
          ]
        },
        {
          "output_type": "stream",
          "name": "stdout",
          "text": [
            "Test Loss: 0.08439264446496964, Test MSE: 0.08439264446496964\n"
          ]
        },
        {
          "output_type": "stream",
          "name": "stderr",
          "text": [
            "/usr/local/lib/python3.10/dist-packages/keras/src/layers/core/dense.py:87: UserWarning: Do not pass an `input_shape`/`input_dim` argument to a layer. When using Sequential models, prefer using an `Input(shape)` object as the first layer in the model instead.\n",
            "  super().__init__(activity_regularizer=activity_regularizer, **kwargs)\n"
          ]
        },
        {
          "output_type": "stream",
          "name": "stdout",
          "text": [
            "Test Loss: 0.08810669928789139, Test MSE: 0.08810669928789139\n",
            "Cross-Validation Accuracy for Each Fold:\n",
            "n_fold iteration 1: [0.28120411 0.30712711 0.43423953 0.22116091 0.41072741 0.2850845\n",
            " 0.26304188 0.37178545 0.3232917  0.26230713]\n",
            "Average accuracy for n_fold iteration 1: 0.32\n",
            "\n",
            "Overall Average Accuracy: 0.32\n"
          ]
        }
      ],
      "source": [
        "from sklearn.model_selection import RepeatedKFold, cross_val_score\n",
        "from scikeras.wrappers import KerasClassifier\n",
        "from sklearn.pipeline import Pipeline\n",
        "import keras_tuner as kt\n",
        "from keras.optimizers import Adam, SGD\n",
        "from keras.callbacks import EarlyStopping\n",
        "keras_clf = KerasClassifier(model=create_model, epochs=100, batch_size=32, verbose=0)\n",
        "\n",
        "n_splits = 10\n",
        "n_repeats = 1\n",
        "rkf = RepeatedKFold(n_splits=n_splits, n_repeats=n_repeats, random_state=42)\n",
        "\n",
        "pipeline = Pipeline([\n",
        "    ('scaler', MinMaxScaler()),  # Scaling step\n",
        "    ('classifier', keras_clf)\n",
        "])\n",
        "\n",
        "scores = cross_val_score(pipeline, X, np.argmax(y.values, axis=1), cv=rkf, scoring='accuracy')\n",
        "\n",
        "\n",
        "print(\"Cross-Validation Accuracy for Each Fold:\")\n",
        "fold_accuracies = scores.reshape(n_repeats, n_splits)\n",
        "for repeat_idx, fold_scores in enumerate(fold_accuracies):\n",
        "    print(f\"n_fold iteration {repeat_idx + 1}: {fold_scores}\")\n",
        "    print(f\"Average accuracy for n_fold iteration {repeat_idx + 1}: {np.mean(fold_scores):.2f}\")\n",
        "\n",
        "overall_average_accuracy = np.mean(scores)\n",
        "print(f\"\\nOverall Average Accuracy: {overall_average_accuracy:.2f}\")"
      ]
    },
    {
      "cell_type": "markdown",
      "id": "cef874c5",
      "metadata": {
        "id": "cef874c5"
      },
      "source": [
        "## Exercise 3 : Hyperparameter Tuning (25 points)\n",
        "\n",
        "Use either grid search or random search methodology to find the optimal number of nodes required in each hidden layer, as well as the optimal learning rate and the different activation functions or optimization approaches, [keras_tuner examples](https://keras.io/guides/keras_tuner/getting_started/) such that the accuracy of the model is maximum for the given data set.\n",
        "\n",
        "__Requirements :__\n",
        "- The set of optimal hyperparameters\n",
        "- Try your best to maximize accuracy using this set of optimal hyperparameters\n",
        "\n",
        "__Note :__ Hyperparameter tuning takes a lot of time to execute. Make sure that you choose the appropriate number of each hyperparameter (preferably 3 of each), and that you allocate enough time to execute your code. Make sure to tune at least three parameters with three options each at a minimum, but feel free to experiment with more, just recognize that it will grow exponentially in running time"
      ]
    },
    {
      "cell_type": "code",
      "execution_count": 20,
      "id": "5572c87d",
      "metadata": {
        "id": "5572c87d",
        "colab": {
          "base_uri": "https://localhost:8080/"
        },
        "outputId": "4bc89808-6276-4936-c863-ecfa9fb6c25b"
      },
      "outputs": [
        {
          "output_type": "stream",
          "name": "stderr",
          "text": [
            "/usr/local/lib/python3.10/dist-packages/keras/src/layers/core/dense.py:87: UserWarning: Do not pass an `input_shape`/`input_dim` argument to a layer. When using Sequential models, prefer using an `Input(shape)` object as the first layer in the model instead.\n",
            "  super().__init__(activity_regularizer=activity_regularizer, **kwargs)\n",
            "/usr/local/lib/python3.10/dist-packages/keras/src/layers/core/dense.py:87: UserWarning: Do not pass an `input_shape`/`input_dim` argument to a layer. When using Sequential models, prefer using an `Input(shape)` object as the first layer in the model instead.\n",
            "  super().__init__(activity_regularizer=activity_regularizer, **kwargs)\n",
            "/usr/local/lib/python3.10/dist-packages/keras/src/layers/core/dense.py:87: UserWarning: Do not pass an `input_shape`/`input_dim` argument to a layer. When using Sequential models, prefer using an `Input(shape)` object as the first layer in the model instead.\n",
            "  super().__init__(activity_regularizer=activity_regularizer, **kwargs)\n",
            "/usr/local/lib/python3.10/dist-packages/keras/src/layers/core/dense.py:87: UserWarning: Do not pass an `input_shape`/`input_dim` argument to a layer. When using Sequential models, prefer using an `Input(shape)` object as the first layer in the model instead.\n",
            "  super().__init__(activity_regularizer=activity_regularizer, **kwargs)\n",
            "/usr/local/lib/python3.10/dist-packages/keras/src/layers/core/dense.py:87: UserWarning: Do not pass an `input_shape`/`input_dim` argument to a layer. When using Sequential models, prefer using an `Input(shape)` object as the first layer in the model instead.\n",
            "  super().__init__(activity_regularizer=activity_regularizer, **kwargs)\n",
            "/usr/local/lib/python3.10/dist-packages/keras/src/layers/core/dense.py:87: UserWarning: Do not pass an `input_shape`/`input_dim` argument to a layer. When using Sequential models, prefer using an `Input(shape)` object as the first layer in the model instead.\n",
            "  super().__init__(activity_regularizer=activity_regularizer, **kwargs)\n",
            "/usr/local/lib/python3.10/dist-packages/keras/src/layers/core/dense.py:87: UserWarning: Do not pass an `input_shape`/`input_dim` argument to a layer. When using Sequential models, prefer using an `Input(shape)` object as the first layer in the model instead.\n",
            "  super().__init__(activity_regularizer=activity_regularizer, **kwargs)\n",
            "/usr/local/lib/python3.10/dist-packages/keras/src/layers/core/dense.py:87: UserWarning: Do not pass an `input_shape`/`input_dim` argument to a layer. When using Sequential models, prefer using an `Input(shape)` object as the first layer in the model instead.\n",
            "  super().__init__(activity_regularizer=activity_regularizer, **kwargs)\n",
            "/usr/local/lib/python3.10/dist-packages/keras/src/layers/core/dense.py:87: UserWarning: Do not pass an `input_shape`/`input_dim` argument to a layer. When using Sequential models, prefer using an `Input(shape)` object as the first layer in the model instead.\n",
            "  super().__init__(activity_regularizer=activity_regularizer, **kwargs)\n",
            "/usr/local/lib/python3.10/dist-packages/keras/src/layers/core/dense.py:87: UserWarning: Do not pass an `input_shape`/`input_dim` argument to a layer. When using Sequential models, prefer using an `Input(shape)` object as the first layer in the model instead.\n",
            "  super().__init__(activity_regularizer=activity_regularizer, **kwargs)\n",
            "/usr/local/lib/python3.10/dist-packages/keras/src/layers/core/dense.py:87: UserWarning: Do not pass an `input_shape`/`input_dim` argument to a layer. When using Sequential models, prefer using an `Input(shape)` object as the first layer in the model instead.\n",
            "  super().__init__(activity_regularizer=activity_regularizer, **kwargs)\n",
            "/usr/local/lib/python3.10/dist-packages/keras/src/layers/core/dense.py:87: UserWarning: Do not pass an `input_shape`/`input_dim` argument to a layer. When using Sequential models, prefer using an `Input(shape)` object as the first layer in the model instead.\n",
            "  super().__init__(activity_regularizer=activity_regularizer, **kwargs)\n",
            "/usr/local/lib/python3.10/dist-packages/keras/src/layers/core/dense.py:87: UserWarning: Do not pass an `input_shape`/`input_dim` argument to a layer. When using Sequential models, prefer using an `Input(shape)` object as the first layer in the model instead.\n",
            "  super().__init__(activity_regularizer=activity_regularizer, **kwargs)\n",
            "/usr/local/lib/python3.10/dist-packages/keras/src/layers/core/dense.py:87: UserWarning: Do not pass an `input_shape`/`input_dim` argument to a layer. When using Sequential models, prefer using an `Input(shape)` object as the first layer in the model instead.\n",
            "  super().__init__(activity_regularizer=activity_regularizer, **kwargs)\n",
            "/usr/local/lib/python3.10/dist-packages/keras/src/layers/core/dense.py:87: UserWarning: Do not pass an `input_shape`/`input_dim` argument to a layer. When using Sequential models, prefer using an `Input(shape)` object as the first layer in the model instead.\n",
            "  super().__init__(activity_regularizer=activity_regularizer, **kwargs)\n",
            "/usr/local/lib/python3.10/dist-packages/keras/src/layers/core/dense.py:87: UserWarning: Do not pass an `input_shape`/`input_dim` argument to a layer. When using Sequential models, prefer using an `Input(shape)` object as the first layer in the model instead.\n",
            "  super().__init__(activity_regularizer=activity_regularizer, **kwargs)\n",
            "/usr/local/lib/python3.10/dist-packages/keras/src/layers/core/dense.py:87: UserWarning: Do not pass an `input_shape`/`input_dim` argument to a layer. When using Sequential models, prefer using an `Input(shape)` object as the first layer in the model instead.\n",
            "  super().__init__(activity_regularizer=activity_regularizer, **kwargs)\n",
            "/usr/local/lib/python3.10/dist-packages/keras/src/layers/core/dense.py:87: UserWarning: Do not pass an `input_shape`/`input_dim` argument to a layer. When using Sequential models, prefer using an `Input(shape)` object as the first layer in the model instead.\n",
            "  super().__init__(activity_regularizer=activity_regularizer, **kwargs)\n",
            "/usr/local/lib/python3.10/dist-packages/keras/src/layers/core/dense.py:87: UserWarning: Do not pass an `input_shape`/`input_dim` argument to a layer. When using Sequential models, prefer using an `Input(shape)` object as the first layer in the model instead.\n",
            "  super().__init__(activity_regularizer=activity_regularizer, **kwargs)\n",
            "/usr/local/lib/python3.10/dist-packages/keras/src/layers/core/dense.py:87: UserWarning: Do not pass an `input_shape`/`input_dim` argument to a layer. When using Sequential models, prefer using an `Input(shape)` object as the first layer in the model instead.\n",
            "  super().__init__(activity_regularizer=activity_regularizer, **kwargs)\n"
          ]
        },
        {
          "output_type": "stream",
          "name": "stdout",
          "text": [
            "\n",
            "Optimal Hyperparameters:\n",
            " - Units in Layer 1: 48\n",
            " - Activation Function in Layer 1: relu\n",
            " - Units in Layer 2: 128\n",
            " - Activation Function in Layer 2: relu\n",
            " - Learning Rate: 0.001\n"
          ]
        },
        {
          "output_type": "stream",
          "name": "stderr",
          "text": [
            "/usr/local/lib/python3.10/dist-packages/keras/src/layers/core/dense.py:87: UserWarning: Do not pass an `input_shape`/`input_dim` argument to a layer. When using Sequential models, prefer using an `Input(shape)` object as the first layer in the model instead.\n",
            "  super().__init__(activity_regularizer=activity_regularizer, **kwargs)\n"
          ]
        },
        {
          "output_type": "stream",
          "name": "stdout",
          "text": [
            "\n",
            "Test Accuracy: 0.93\n"
          ]
        }
      ],
      "source": [
        "from sklearn.preprocessing import MinMaxScaler\n",
        "from keras.utils import to_categorical\n",
        "import keras_tuner as kt\n",
        "\n",
        "\n",
        "def build_model(hp):\n",
        "    model = Sequential()\n",
        "    model.add(Dense(\n",
        "        hp.Int('units_layer1', min_value=8, max_value=128, step=40),\n",
        "        activation=hp.Choice('activation_layer1', ['relu', 'tanh', 'sigmoid']),\n",
        "        input_dim=X_train.shape[1]\n",
        "    ))\n",
        "    model.add(Dense(\n",
        "        hp.Int('units_layer2', min_value=8, max_value=128, step=40),\n",
        "        activation=hp.Choice('activation_layer2', ['relu', 'tanh', 'sigmoid'])\n",
        "    ))\n",
        "    model.add(Dense(\n",
        "        hp.Int('units_layer3', min_value=8, max_value=128, step=40),\n",
        "        activation=hp.Choice('activation_layer3', ['relu', 'tanh', 'sigmoid'])\n",
        "    ))\n",
        "    model.add(Dense(y_train.shape[1], activation='softmax'))\n",
        "    model.compile(\n",
        "        optimizer=Adam(learning_rate=hp.Choice('learning_rate', [0.001, 0.01, 0.1])),\n",
        "        loss='categorical_crossentropy',\n",
        "        metrics=['accuracy']\n",
        "    )\n",
        "    return model\n",
        "\n",
        "tuner = kt.RandomSearch(\n",
        "    build_model,\n",
        "    objective='val_accuracy',\n",
        "    max_trials=20,\n",
        "    executions_per_trial=1,\n",
        "    directory='hyperparameter_tuning',\n",
        "    project_name='keras_tuner_pipeline'\n",
        ")\n",
        "\n",
        "tuner.search(X_train_scaled, y_train, epochs=50, validation_split=0.2, verbose=0)\n",
        "\n",
        "\n",
        "best_hps = tuner.get_best_hyperparameters(num_trials=1)[0]\n",
        "print(\"\\nOptimal Hyperparameters:\")\n",
        "print(f\" - Units in Layer 1: {best_hps.get('units_layer1')}\")\n",
        "print(f\" - Activation Function in Layer 1: {best_hps.get('activation_layer1')}\")\n",
        "print(f\" - Units in Layer 2: {best_hps.get('units_layer2')}\")\n",
        "print(f\" - Activation Function in Layer 2: {best_hps.get('activation_layer2')}\")\n",
        "print(f\" - Learning Rate: {best_hps.get('learning_rate')}\")\n",
        "\n",
        "# Build the best model\n",
        "early_stopping = EarlyStopping(monitor='val_loss', patience=5)\n",
        "best_model = tuner.hypermodel.build(best_hps)\n",
        "\n",
        "# Train the best model\n",
        "history = best_model.fit(X_train_scaled, y_train, epochs=50, validation_split=0.2, verbose=0, callbacks=[early_stopping])\n",
        "\n",
        "# Evaluate the best model\n",
        "test_loss, test_accuracy = best_model.evaluate(X_test_scaled, y_test, verbose=0)\n",
        "print(f\"\\nTest Accuracy: {test_accuracy:.2f}\")\n"
      ]
    },
    {
      "cell_type": "markdown",
      "id": "nPfZ4mzk09EI",
      "metadata": {
        "id": "nPfZ4mzk09EI"
      },
      "source": [
        "## Exercise 4 - Collaborative Statement (5 points)\n",
        "\n",
        "It is mandatory to include a Statement of Collaboration in each submission, that follows the guidelines below.\n",
        "Include the names of everyone involved in the discussions (especially in-person ones), and what was discussed.\n",
        "All students are required to follow the academic honesty guidelines posted on the course website. For\n",
        "programming assignments in particular, I encourage students to organize (perhaps using Piazza) to discuss the\n",
        "task descriptions, requirements, possible bugs in the support code, and the relevant technical content before they\n",
        "start working on it. However, you should not discuss the specific solutions, and as a guiding principle, you are\n",
        "not allowed to take anything written or drawn away from these discussions (no photographs of the blackboard,\n",
        "written notes, referring to Piazza, etc.). Especially after you have started working on the assignment, try to restrict\n",
        "the discussion to Piazza as much as possible, so that there is no doubt as to the extent of your collaboration.\n",
        "\n",
        "Even if you did not use any outside resources or collaborate with anyone, please state that explicitly in the space below."
      ]
    },
    {
      "cell_type": "markdown",
      "source": [
        "Bobby Zhu"
      ],
      "metadata": {
        "id": "nIf6l5U9sPR7"
      },
      "id": "nIf6l5U9sPR7"
    },
    {
      "cell_type": "code",
      "source": [],
      "metadata": {
        "id": "27tPTPQlsN6A"
      },
      "id": "27tPTPQlsN6A",
      "execution_count": null,
      "outputs": []
    }
  ],
  "metadata": {
    "colab": {
      "provenance": []
    },
    "kernelspec": {
      "display_name": "Python 3",
      "language": "python",
      "name": "python3"
    },
    "language_info": {
      "codemirror_mode": {
        "name": "ipython",
        "version": 3
      },
      "file_extension": ".py",
      "mimetype": "text/x-python",
      "name": "python",
      "nbconvert_exporter": "python",
      "pygments_lexer": "ipython3",
      "version": "3.8.10"
    }
  },
  "nbformat": 4,
  "nbformat_minor": 5
}